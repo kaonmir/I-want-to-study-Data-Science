{
  "nbformat": 4,
  "nbformat_minor": 0,
  "metadata": {
    "colab": {
      "name": "06. Logistic regression for a binary classification using a high dimensional function",
      "provenance": [],
      "collapsed_sections": [
        "206i5F4aGx3A"
      ],
      "authorship_tag": "ABX9TyOZK1PLqhb+jj0zSu3YsgLv",
      "include_colab_link": true
    },
    "kernelspec": {
      "name": "python3",
      "display_name": "Python 3"
    }
  },
  "cells": [
    {
      "cell_type": "markdown",
      "metadata": {
        "id": "view-in-github",
        "colab_type": "text"
      },
      "source": [
        "<a href=\"https://colab.research.google.com/github/kaonmir/I-want-to-study-Data-Science/blob/master/06_Logistic_regression_for_a_binary_classification_using_a_high_dimensional_function.ipynb\" target=\"_parent\"><img src=\"https://colab.research.google.com/assets/colab-badge.svg\" alt=\"Open In Colab\"/></a>"
      ]
    },
    {
      "cell_type": "code",
      "metadata": {
        "id": "S5MgiRBQBpCe",
        "colab_type": "code",
        "colab": {}
      },
      "source": [
        "import math\n",
        "import numpy as np\n",
        "import pandas as pd\n",
        "import matplotlib.pyplot as plt"
      ],
      "execution_count": 0,
      "outputs": []
    },
    {
      "cell_type": "code",
      "metadata": {
        "id": "ufWCm9oZBsa7",
        "colab_type": "code",
        "colab": {}
      },
      "source": [
        "data = pd.read_csv(\"https://raw.githubusercontent.com/kaonmir/MachineLearningAssignment/master/06.%20data.txt?token=AJWECOCDKA5WE7JMN2ARCD26UDDPK\",\n",
        "                   names=['X0', 'X1', 'label'], header=None, dtype=np.float64)\n",
        "X0 = data['X0']\n",
        "X1 = data['X1']\n",
        "label = data['label']"
      ],
      "execution_count": 0,
      "outputs": []
    },
    {
      "cell_type": "markdown",
      "metadata": {
        "id": "ePNTGlvkCM9r",
        "colab_type": "text"
      },
      "source": [
        "## 1. Plot the training data\n",
        "\n",
        "* plot the training data points (x,y) with their labels l in colors (blue for label 0 and red for label 1)"
      ]
    },
    {
      "cell_type": "code",
      "metadata": {
        "id": "-ezf1YTBCCrs",
        "colab_type": "code",
        "colab": {
          "base_uri": "https://localhost:8080/",
          "height": 483
        },
        "outputId": "7e1ce864-3fd5-4668-c827-4e95f584ef3a"
      },
      "source": [
        "plt.figure(figsize=(8, 8))\n",
        "plt.scatter(X0[label==0], X1[label==0], c='b')\n",
        "plt.scatter(X0[label==1], X1[label==1] , c='r')\n",
        "plt.show()"
      ],
      "execution_count": 28,
      "outputs": [
        {
          "output_type": "display_data",
          "data": {
            "image/png": "[encoded data removed]",
            "text/plain": [
              "<Figure size 576x576 with 1 Axes>"
            ]
          },
          "metadata": {
            "tags": [],
            "needs_background": "light"
          }
        }
      ]
    },
    {
      "cell_type": "markdown",
      "metadata": {
        "id": "NZ7k05xvFUWX",
        "colab_type": "text"
      },
      "source": [
        "## 2. Write down the high dimensional function g(x, y; θ)\n",
        "\n",
        "* write down the equation for the non-linear function g(x, y; θ) used for the classifier\n",
        "* z=g(x, y; θ), where $g$ is a high dimensional function and $θ∈R^{16}$"
      ]
    },
    {
      "cell_type": "markdown",
      "metadata": {
        "id": "206i5F4aGx3A",
        "colab_type": "text"
      },
      "source": [
        "### Predefinded Function\n",
        "* sigmoid(x): sigmoid value\n",
        "* cal_cost(theta, X, y): cost\n",
        "* gradient_descent(X, y, theta,learning_rate=0.01, iterations=100): tuple(theta, cost_history, theta_history)"
      ]
    },
    {
      "cell_type": "code",
      "metadata": {
        "id": "kq1Ctf5WCzLp",
        "colab_type": "code",
        "colab": {}
      },
      "source": [
        "def sigmoid(x):\n",
        "  try:\n",
        "    return 1 / (1 +np.exp(-x))\n",
        "  except:\n",
        "    return 1e9"
      ],
      "execution_count": 0,
      "outputs": []
    },
    {
      "cell_type": "code",
      "metadata": {
        "id": "jKRwEtGZDC0W",
        "colab_type": "code",
        "colab": {}
      },
      "source": [
        "def cal_cost(_theta, _X, _Y):\n",
        "  m = len(_X)\n",
        "  z = X.dot(_theta)\n",
        "  h = sigmoid(z)\n",
        "\n",
        "  J = -(1.0/m) * (_Y.T.dot(np.log(h))+(1-_Y).T.dot(np.log(1-h)))\n",
        "  return J.item()"
      ],
      "execution_count": 0,
      "outputs": []
    },
    {
      "cell_type": "code",
      "metadata": {
        "id": "kSlHJNZmGrLy",
        "colab_type": "code",
        "colab": {}
      },
      "source": [
        "def gradient_descent(_X, _Y, _theta, lr=0.01, iterations=100):\n",
        "  cost_history = np.zeros(iterations)\n",
        "  theta_history = np.zeros((iterations, theta.size))\n",
        "\n",
        "  m = len(X)\n",
        "  z = _X.dot(_theta)\n",
        "  h = sigmoid(z)\n",
        "\n",
        "  for it in range(iterations):\n",
        "    theta_history[it, :] = _theta.T\n",
        "    cost_history[it] = cal_cost(_theta, _X, _Y)\n",
        "\n",
        "    _theta = _theta - (lr/m) * _X.T.dot(h - _Y)\n",
        "\n",
        "  return _theta, cost_history, theta_history"
      ],
      "execution_count": 0,
      "outputs": []
    },
    {
      "cell_type": "markdown",
      "metadata": {
        "id": "U-ByObKdG1KS",
        "colab_type": "text"
      },
      "source": [
        "### Remake $X$ to be $f_k(x, y)$\n",
        "* That 16 functions will be\n",
        "\n",
        "| |  |  | |\n",
        "|----------|-------- | -------  | -------  | \n",
        "|  1      |   $x$   |    $y$   |  $x+y$   |\n",
        "| $xy$    |   $x^2$ |   $y^2$  |  $x^2y$  |\n",
        "| $xy^2$  |$x^2y^2$ |   $x^3y$ |  $xy^3$  |\n",
        "|  $x^3$  |   $y^3$ |$x^2+y^2$ |$x^3+y^3$ | "
      ]
    },
    {
      "cell_type": "code",
      "metadata": {
        "id": "j4cGGHNKGtbU",
        "colab_type": "code",
        "colab": {}
      },
      "source": [
        "X = np.c_[np.ones((len(X0), 1)), X0, X1, X0+X1,\n",
        "          X0*X1, X0**2, X1**2, (X0**2)*X1,\n",
        "          X0*(X1**2), (X0**2)*(X1**2), (X0**3)*X1, X0*(X1**3),\n",
        "          X0**3, X1**3, (X0**2)+(X1**2), (X0**3)+(X1**3)]\n",
        "Y = label.to_numpy().reshape(len(label), 1)"
      ],
      "execution_count": 0,
      "outputs": []
    },
    {
      "cell_type": "markdown",
      "metadata": {
        "id": "N2YbC9XmNQZf",
        "colab_type": "text"
      },
      "source": [
        "### Making result and plotting"
      ]
    },
    {
      "cell_type": "code",
      "metadata": {
        "id": "2M-nrC1lHnkj",
        "colab_type": "code",
        "colab": {}
      },
      "source": [
        "lr = 0.0002\n",
        "n_iter = 20000\n",
        "theta = np.array([0]*16).reshape((16, 1))\n",
        "\n",
        "theta, cost_history, theta_history = gradient_descent(X, Y, theta, lr, n_iter)"
      ],
      "execution_count": 0,
      "outputs": []
    },
    {
      "cell_type": "markdown",
      "metadata": {
        "id": "r7KwaehoODT7",
        "colab_type": "text"
      },
      "source": [
        "## 3. Plot the training error\n",
        "\n",
        "* plot the training error J(θ) at every iteration of gradient descent until convergence (in blue color)"
      ]
    },
    {
      "cell_type": "code",
      "metadata": {
        "id": "fArhNlbZMWiK",
        "colab_type": "code",
        "colab": {
          "base_uri": "https://localhost:8080/",
          "height": 283
        },
        "outputId": "184ff806-1b91-4ec0-b9db-fba3c1ba31b2"
      },
      "source": [
        "plt.figure()\n",
        "plt.scatter(range(len(cost_history)), cost_history, c='b', s=1)"
      ],
      "execution_count": 69,
      "outputs": [
        {
          "output_type": "execute_result",
          "data": {
            "text/plain": [
              "<matplotlib.collections.PathCollection at 0x7f22cbdb27b8>"
            ]
          },
          "metadata": {
            "tags": []
          },
          "execution_count": 69
        },
        {
          "output_type": "display_data",
          "data": {
            "image/png": "[encoded data removed]",
            "text/plain": [
              "<Figure size 432x288 with 1 Axes>"
            ]
          },
          "metadata": {
            "tags": [],
            "needs_background": "light"
          }
        }
      ]
    },
    {
      "cell_type": "code",
      "metadata": {
        "id": "LhUDY0ZxMjVD",
        "colab_type": "code",
        "colab": {}
      },
      "source": [
        ""
      ],
      "execution_count": 0,
      "outputs": []
    }
  ]
}