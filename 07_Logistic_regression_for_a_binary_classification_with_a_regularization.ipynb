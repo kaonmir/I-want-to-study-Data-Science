{
  "nbformat": 4,
  "nbformat_minor": 0,
  "metadata": {
    "colab": {
      "name": "07. Logistic regression for a binary classification with a regularization",
      "provenance": [],
      "collapsed_sections": [],
      "authorship_tag": "ABX9TyMAxd7NdLm3hswFhApxEfXE",
      "include_colab_link": true
    },
    "kernelspec": {
      "name": "python3",
      "display_name": "Python 3"
    }
  },
  "cells": [
    {
      "cell_type": "markdown",
      "metadata": {
        "id": "view-in-github",
        "colab_type": "text"
      },
      "source": [
        "<a href=\"https://colab.research.google.com/github/kaonmir/I-want-to-study-Data-Science/blob/master/07_Logistic_regression_for_a_binary_classification_with_a_regularization.ipynb\" target=\"_parent\"><img src=\"https://colab.research.google.com/assets/colab-badge.svg\" alt=\"Open In Colab\"/></a>"
      ]
    },
    {
      "cell_type": "code",
      "metadata": {
        "id": "Muy5ltX-cvTd",
        "colab_type": "code",
        "colab": {}
      },
      "source": [
        "import math\n",
        "import numpy as np\n",
        "import pandas as pd\n",
        "import matplotlib.pyplot as plt\n",
        "\n",
        "from termcolor import colored"
      ],
      "execution_count": 0,
      "outputs": []
    },
    {
      "cell_type": "code",
      "metadata": {
        "id": "wfobBh6fc4mA",
        "colab_type": "code",
        "colab": {}
      },
      "source": [
        "data = pd.read_csv(\"https://raw.githubusercontent.com/kaonmir/MachineLearningAssignment/master/07.%20data.txt?token=AJWECOBQZELQBOIDJ2TK5J26XTE3Q\",\n",
        "                   names=['X0', 'X1', 'label'], header=None, dtype=np.float64)\n",
        "X0 = data['X0'].to_numpy().reshape(len(data), 1)\n",
        "X1 = data['X1'].to_numpy().reshape(len(data), 1)\n",
        "y = data['label'].to_numpy().reshape(len(data), 1)"
      ],
      "execution_count": 0,
      "outputs": []
    },
    {
      "cell_type": "markdown",
      "metadata": {
        "id": "jOU1SaiFdUvW",
        "colab_type": "text"
      },
      "source": [
        "## 1. Plot the training data\n",
        "\n",
        "* plot the training data points (x,y) with their labels lll in colors (blue for label 0 and red for label 1)"
      ]
    },
    {
      "cell_type": "code",
      "metadata": {
        "id": "9wJO_x4sc_is",
        "colab_type": "code",
        "colab": {
          "base_uri": "https://localhost:8080/",
          "height": 483
        },
        "outputId": "13929546-f8a5-4ceb-ad8b-4527be719eab"
      },
      "source": [
        "plt.figure(figsize=(8, 8))\n",
        "plt.scatter(X0[label==0], X1[label==0], c='b')\n",
        "plt.scatter(X0[label==1], X1[label==1] , c='r')\n",
        "plt.show()"
      ],
      "execution_count": 4,
      "outputs": [
        {
          "output_type": "display_data",
          "data": {
            "image/png": "[encoded data removed]",
            "text/plain": [
              "<Figure size 576x576 with 1 Axes>"
            ]
          },
          "metadata": {
            "tags": [],
            "needs_background": "light"
          }
        }
      ]
    },
    {
      "cell_type": "markdown",
      "metadata": {
        "id": "X6S91YmFdr5Y",
        "colab_type": "text"
      },
      "source": [
        "## 2. Plot the training error with varying regularization parameters\n",
        "\n",
        "* choose a value for λ<sub>1</sub> in such a way that **over-fitting** is demonstrated and plot the training error J(θ) at every iteration of gradient descent until convergence (in red color)\n",
        "* choose a value for λ<sub>2</sub> in such a way that **just-right** is demonstrated and plot the training error J(θ) at every iteration of gradient descent until convergence (in green color)\n",
        "* choose a value for λ<sub>3</sub> in such a way that **under-fitting** is demonstrated and plot the training error J(θ) at every iteration of gradient descent until convergence (in blue color)\n",
        "* the above three curves should be presented all together in a single figure"
      ]
    },
    {
      "cell_type": "markdown",
      "metadata": {
        "id": "4m8Hg97olYXZ",
        "colab_type": "text"
      },
      "source": [
        "### Design a logistic model"
      ]
    },
    {
      "cell_type": "code",
      "metadata": {
        "id": "kVa2MGjEdAzc",
        "colab_type": "code",
        "colab": {}
      },
      "source": [
        "def mapFeature(x1,x2,degree):\n",
        "    out = np.ones(len(x1)).reshape(len(x1),1)\n",
        "    for i in range(1,degree+1):\n",
        "        for j in range(i+1):\n",
        "            terms= (x1**(i-j) * x2**j).reshape(len(x1),1)\n",
        "            out= np.hstack((out,terms))\n",
        "    return out\n",
        "X = mapFeature(X0, X1, 9)"
      ],
      "execution_count": 0,
      "outputs": []
    },
    {
      "cell_type": "code",
      "metadata": {
        "id": "WmiwRlklgUN-",
        "colab_type": "code",
        "colab": {}
      },
      "source": [
        "def sigmoid(z):\n",
        "    return 1/ (1 + np.exp(-z))\n",
        "def costFunctionReg(theta, X, y ,Lambda):\n",
        "    m=len(y)\n",
        "    y=y[:,np.newaxis]\n",
        "    predictions = sigmoid(X @ theta)\n",
        "    error = (-y * np.log(predictions)) - ((1-y)*np.log(1-predictions))\n",
        "    cost = 1/m * sum(error)\n",
        "    regCost= cost + Lambda/(2*m) * sum(theta**2)\n",
        "    \n",
        "    # compute gradient\n",
        "    j_0= 1/m * (X.T @ (predictions - y))[0]\n",
        "    j_1 = 1/m * (X.T @ (predictions - y))[1:] + (Lambda/m)* theta[1:]\n",
        "    grad= np.vstack((j_0[:,np.newaxis],j_1))\n",
        "    return regCost[0], grad"
      ],
      "execution_count": 0,
      "outputs": []
    },
    {
      "cell_type": "code",
      "metadata": {
        "id": "XqRlWEY8gXLR",
        "colab_type": "code",
        "colab": {
          "base_uri": "https://localhost:8080/",
          "height": 35
        },
        "outputId": "d8cc56e0-888c-413e-cfa8-2a77834e8c60"
      },
      "source": [
        "# Initialize fitting parameters\n",
        "initial_theta = np.zeros((X.shape[1], 1))\n",
        "# Set regularization parameter lambda to 1\n",
        "Lambda = 1\n",
        "#Compute and display initial cost and gradient for regularized logistic regression\n",
        "cost, grad=costFunctionReg(initial_theta, X, y, Lambda)\n",
        "print(\"Cost at initial theta (zeros):\",cost)"
      ],
      "execution_count": 49,
      "outputs": [
        {
          "output_type": "stream",
          "text": [
            "Cost at initial theta (zeros): 0.6931471805599461\n"
          ],
          "name": "stdout"
        }
      ]
    },
    {
      "cell_type": "code",
      "metadata": {
        "id": "7Me6zGM0gZPt",
        "colab_type": "code",
        "colab": {}
      },
      "source": [
        "def gradientDescent(X,y,theta,alpha,num_iters,Lambda):\n",
        "    m=len(y)\n",
        "    J_history =[]\n",
        "    theta_history =[]\n",
        "    \n",
        "    for i in range(num_iters):\n",
        "        cost, grad = costFunctionReg(theta,X,y,Lambda)\n",
        "        theta = theta - (alpha * grad)\n",
        "        J_history.append(cost)\n",
        "        theta_history.append(theta)\n",
        "    \n",
        "    return theta , J_history, theta_history"
      ],
      "execution_count": 0,
      "outputs": []
    },
    {
      "cell_type": "markdown",
      "metadata": {
        "id": "eWNMd5INleK8",
        "colab_type": "text"
      },
      "source": [
        "### Derive right answers of question"
      ]
    },
    {
      "cell_type": "code",
      "metadata": {
        "id": "S2F2YPuYj7yJ",
        "colab_type": "code",
        "colab": {}
      },
      "source": [
        "over_Lambda, right_Lambda, under_Lambda = 0, 0.7, 3\n",
        "iterations = 1000\n",
        "alpha = 1\n",
        "\n",
        "over_theta, over_J_history, over_theta_history = gradientDescent(X,y,initial_theta, alpha, iterations, over_Lambda)\n",
        "right_theta, right_J_history, right_theta_history= gradientDescent(X,y,initial_theta, alpha, iterations, right_Lambda)\n",
        "under_theta, under_J_history, under_theta_history = gradientDescent(X,y,initial_theta, alpha, iterations, under_Lambda)"
      ],
      "execution_count": 0,
      "outputs": []
    },
    {
      "cell_type": "code",
      "metadata": {
        "id": "ALjCYvOAga82",
        "colab_type": "code",
        "colab": {
          "base_uri": "https://localhost:8080/",
          "height": 313
        },
        "outputId": "74623213-2990-4c07-d8ce-7b3d749c5fee"
      },
      "source": [
        "plt.figure()\n",
        "plt.plot(over_J_history, c='r', label='over-fitting')\n",
        "plt.plot(right_J_history, c='g', label='just-right')\n",
        "plt.plot(under_J_history, c='b', label='under-fitting')\n",
        "plt.xlabel(\"Iteration\")\n",
        "plt.ylabel(\"$J(\\Theta)$\")\n",
        "plt.title(\"Cost function using Gradient Descent\")\n",
        "plt.legend()"
      ],
      "execution_count": 167,
      "outputs": [
        {
          "output_type": "execute_result",
          "data": {
            "text/plain": [
              "<matplotlib.legend.Legend at 0x7ff660837d30>"
            ]
          },
          "metadata": {
            "tags": []
          },
          "execution_count": 167
        },
        {
          "output_type": "display_data",
          "data": {
            "image/png": "[encoded data removed]",
            "text/plain": [
              "<Figure size 432x288 with 1 Axes>"
            ]
          },
          "metadata": {
            "tags": [],
            "needs_background": "light"
          }
        }
      ]
    },
    {
      "cell_type": "markdown",
      "metadata": {
        "id": "DMB1-VHYmPnx",
        "colab_type": "text"
      },
      "source": [
        "### 3. Display the values of the chosen regularization parameters\n",
        "\n",
        "* display the value of the chosen λ1 for the demonstration of over-fitting (in red color)\n",
        "* display the value of the chosen λ2 for the demonstration of just-right (in green color)\n",
        "* display the value of the chosen λ3 for the demonstration of under-fitting (in blue color)"
      ]
    },
    {
      "cell_type": "code",
      "metadata": {
        "id": "HgDI-Xc-q4jW",
        "colab_type": "code",
        "colab": {
          "base_uri": "https://localhost:8080/",
          "height": 35
        },
        "outputId": "09a51bcd-3e0c-4b70-bfbe-ea74f56bb8f0"
      },
      "source": [
        "print(colored(over_Lambda, 'red'), colored(right_Lambda, 'green'), colored(under_Lambda, 'blue'))"
      ],
      "execution_count": 161,
      "outputs": [
        {
          "output_type": "stream",
          "text": [
            "\u001b[31m0\u001b[0m \u001b[32m1\u001b[0m \u001b[34m2\u001b[0m\n"
          ],
          "name": "stdout"
        }
      ]
    },
    {
      "cell_type": "markdown",
      "metadata": {
        "id": "wLJkwxLvmpr6",
        "colab_type": "text"
      },
      "source": [
        "### 4. Plot the training accuracy with varying regularization parameters\n",
        "\n",
        "* plot the training accuracy with the chosen λ1 for **over-fitting** at every iteration of gradient descent until convergence (in red color) [3pt]\n",
        "* plot the training accuracy with the chosen λ2 for **just-right** at every iteration of gradient descent until convergence (in green color) [3pt]\n",
        "* plot the training accuracy with the chosen λ3 for **under-fitting** at every iteration of gradient descent until convergence (in blue color) [3pt]\n",
        "* the above three curves should be presented all together in a single figure"
      ]
    },
    {
      "cell_type": "code",
      "metadata": {
        "id": "L5OVz_UjoGAM",
        "colab_type": "code",
        "colab": {}
      },
      "source": [
        "def iter_accuracy(thetas, X, y):\n",
        "  acc_history = []\n",
        "  for theta in thetas:\n",
        "    acc_history.append(accuracy(theta, X, y))\n",
        "  return acc_history\n",
        "def accuracy(theta, X, y):\n",
        "    m=len(y)\n",
        "    y=y[:,np.newaxis]\n",
        "    predictions = sigmoid(X @ theta)\n",
        "    return np.sum(y == (predictions >= 0.5)) / m\n",
        "over_accuracy = iter_accuracy(over_theta_history, X, y)\n",
        "right_accuracy = iter_accuracy(right_theta_history, X, y)\n",
        "under_accuracy = iter_accuracy(under_theta_history, X, y)"
      ],
      "execution_count": 0,
      "outputs": []
    },
    {
      "cell_type": "code",
      "metadata": {
        "id": "YJb8v-7Doyrd",
        "colab_type": "code",
        "colab": {
          "base_uri": "https://localhost:8080/",
          "height": 313
        },
        "outputId": "f1c4fa76-6614-4b2d-fbd5-1715c4828d93"
      },
      "source": [
        "plt.figure()\n",
        "plt.plot(over_accuracy, c='r', label='over-fitting')\n",
        "plt.plot(right_accuracy, c='g', label='just-right')\n",
        "plt.plot(under_accuracy, c='b', label='under-fitting')\n",
        "plt.xlabel(\"Iteration\")\n",
        "plt.ylabel(\"$Accuracy(%)$\")\n",
        "plt.title(\"Trainning accuracy for every iterations\")\n",
        "plt.legend()"
      ],
      "execution_count": 169,
      "outputs": [
        {
          "output_type": "execute_result",
          "data": {
            "text/plain": [
              "<matplotlib.legend.Legend at 0x7ff6607a4550>"
            ]
          },
          "metadata": {
            "tags": []
          },
          "execution_count": 169
        },
        {
          "output_type": "display_data",
          "data": {
            "image/png": "[encoded data removed]",
            "text/plain": [
              "<Figure size 432x288 with 1 Axes>"
            ]
          },
          "metadata": {
            "tags": [],
            "needs_background": "light"
          }
        }
      ]
    },
    {
      "cell_type": "markdown",
      "metadata": {
        "id": "b3BoJ5wSryiM",
        "colab_type": "text"
      },
      "source": [
        "## 5. Display the final training accuracy with varying regularization parameters\n",
        "\n",
        "* display the final training accuracy obtained with the chosen λ1 for over-fitting in number (%) at convergence (in red color)\n",
        "* display the final training accuracy obtained with the chosen λ2 for just-right in number (%) at convergence (in green color)\n",
        "* display the final training accuracy obtained with the chosen λ3 for under-fitting in number (%) at convergence (in blue color)"
      ]
    },
    {
      "cell_type": "code",
      "metadata": {
        "id": "51q9-L3XpGWO",
        "colab_type": "code",
        "colab": {
          "base_uri": "https://localhost:8080/",
          "height": 35
        },
        "outputId": "7dc5e064-06e1-44c3-a4bb-2e0d02f7a445"
      },
      "source": [
        "print(colored(accuracy(over_theta, X, y), 'red'), colored(accuracy(right_theta, X, y), 'green'), colored(accuracy(under_theta, X, y), 'blue'))"
      ],
      "execution_count": 170,
      "outputs": [
        {
          "output_type": "stream",
          "text": [
            "\u001b[31m0.847457627118644\u001b[0m \u001b[32m0.8389830508474576\u001b[0m \u001b[34m0.8050847457627118\u001b[0m\n"
          ],
          "name": "stdout"
        }
      ]
    },
    {
      "cell_type": "markdown",
      "metadata": {
        "id": "qgDnaEMntleq",
        "colab_type": "text"
      },
      "source": [
        "## 6. Plot the optimal classifier with varying regularization parameters superimposed on the training data\n",
        "\n",
        "* plot the boundary of the optimal classifier with the chosen λ1 for over-fitting at convergence (in red color)\n",
        "* plot the boundary of the optimal classifier with the chosen λ2 for just-right at convergence (in green color)\n",
        "* plot the boundary of the optimal classifier with the chosen λ3 for under-fitting at convergence (in blue color)\n",
        "* the boundary of the classifier is defined by `{(x,y)∣σ(g(x,y;θ))=0.5}={(x,y)∣g(x,y;θ)=0}`\n",
        "* the boundaries of the classifiers with different regularization parameters should be presented with the training data points (x,y) with their labels l in colors (blue for label 0 and red for label 1)\n",
        "* you can use contour function in python3"
      ]
    },
    {
      "cell_type": "code",
      "metadata": {
        "id": "Nl4pV_mQp_bS",
        "colab_type": "code",
        "colab": {
          "base_uri": "https://localhost:8080/",
          "height": 537
        },
        "outputId": "7648dce0-2c97-4169-8f06-d9cadc6dbdbf"
      },
      "source": [
        "def mapFeaturePlot(x1,x2,degree):\n",
        "    out = np.ones(1)\n",
        "    for i in range(1,degree+1):\n",
        "        for j in range(i+1):\n",
        "            terms= (x1**(i-j) * x2**j)\n",
        "            out= np.hstack((out,terms))\n",
        "    return out\n",
        "\n",
        "plt.figure(figsize=(8, 8))\n",
        "plt.scatter(X0[label==0], X1[label==0], c='b')\n",
        "plt.scatter(X0[label==1], X1[label==1] , c='r')\n",
        "# Plotting decision boundary\n",
        "u_vals = np.linspace(-1,1.5,50)\n",
        "v_vals= np.linspace(-1,1.5,50)\n",
        "\n",
        "z=np.zeros((len(u_vals),len(v_vals)))\n",
        "# over-fitting\n",
        "for i in range(len(u_vals)):\n",
        "    for j in range(len(v_vals)):\n",
        "        z[i,j] =mapFeaturePlot(u_vals[i],v_vals[j],9) @ over_theta\n",
        "CS = plt.contour(u_vals,v_vals,z.T,0, colors='r')\n",
        "plt.clabel(CS, CS.levels, inline=True, fmt='over-fitting', fontsize=11)\n",
        "\n",
        "# just-right\n",
        "for i in range(len(u_vals)):\n",
        "    for j in range(len(v_vals)):\n",
        "        z[i,j] =mapFeaturePlot(u_vals[i],v_vals[j],9) @ right_theta\n",
        "CS = plt.contour(u_vals,v_vals,z.T,0, colors='g')\n",
        "plt.clabel(CS, CS.levels, inline=True, fmt='just-right', fontsize=11)\n",
        "\n",
        "# under-fitting\n",
        "for i in range(len(u_vals)):\n",
        "    for j in range(len(v_vals)):\n",
        "        z[i,j] =mapFeaturePlot(u_vals[i],v_vals[j],9) @ under_theta\n",
        "CS = plt.contour(u_vals,v_vals,z.T,0, colors='b')\n",
        "plt.clabel(CS, CS.levels, inline=True, fmt='under-fitting', fontsize=11)\n",
        "\n",
        "plt.xlabel(\"X0\")\n",
        "plt.ylabel(\"X1\")\n",
        "plt.legend()"
      ],
      "execution_count": 171,
      "outputs": [
        {
          "output_type": "stream",
          "text": [
            "No handles with labels found to put in legend.\n"
          ],
          "name": "stderr"
        },
        {
          "output_type": "execute_result",
          "data": {
            "text/plain": [
              "<matplotlib.legend.Legend at 0x7ff6606e6dd8>"
            ]
          },
          "metadata": {
            "tags": []
          },
          "execution_count": 171
        },
        {
          "output_type": "display_data",
          "data": {
            "image/png": "[encoded data removed]",
            "text/plain": [
              "<Figure size 576x576 with 1 Axes>"
            ]
          },
          "metadata": {
            "tags": [],
            "needs_background": "light"
          }
        }
      ]
    },
    {
      "cell_type": "code",
      "metadata": {
        "id": "J33LGd-1vNe9",
        "colab_type": "code",
        "colab": {}
      },
      "source": [
        ""
      ],
      "execution_count": 0,
      "outputs": []
    }
  ]
}