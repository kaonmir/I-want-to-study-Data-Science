{
  "nbformat": 4,
  "nbformat_minor": 0,
  "metadata": {
    "colab": {
      "name": "04. Linear_Regression_With_Multiple_Variables",
      "provenance": [],
      "collapsed_sections": [],
      "authorship_tag": "ABX9TyNWv+62PCEAwkfxCypEegae",
      "include_colab_link": true
    },
    "kernelspec": {
      "name": "python3",
      "display_name": "Python 3"
    }
  },
  "cells": [
    {
      "cell_type": "markdown",
      "metadata": {
        "id": "view-in-github",
        "colab_type": "text"
      },
      "source": [
        "<a href=\"https://colab.research.google.com/github/kaonmir/I-want-to-study-Data-Science/blob/master/04_Linear_Regression_With_Multiple_Variables.ipynb\" target=\"_parent\"><img src=\"https://colab.research.google.com/assets/colab-badge.svg\" alt=\"Open In Colab\"/></a>"
      ]
    },
    {
      "cell_type": "code",
      "metadata": {
        "id": "k5ov2XsdPDOK",
        "colab_type": "code",
        "colab": {}
      },
      "source": [
        "import numpy as np\n",
        "import matplotlib.pyplot as plt\n",
        "import pandas as pd"
      ],
      "execution_count": 0,
      "outputs": []
    },
    {
      "cell_type": "code",
      "metadata": {
        "id": "was-TdAoQRcH",
        "colab_type": "code",
        "colab": {}
      },
      "source": [
        "# I use pandas to read csv which is uploaded in github, instead of using numpy with uploading local files\n",
        "# Because it is simpler than other method:D\n",
        "# Token'll be expire no long after. re-updating token is necessary\n",
        "\n",
        "data_test = pd.read_csv(\"https://raw.githubusercontent.com/kaonmir/MachineLearningAssignment/master/04.%20data_test.csv?token=AJWECOGCV4O6FHNMG3EQYRC6SKUFW\",\n",
        "                   names=['X0', 'X1', 'X2', 'Y'], header=None, dtype=np.float64)\n",
        "data_train = pd.read_csv(\"https://raw.githubusercontent.com/kaonmir/MachineLearningAssignment/master/04.%20data_train.csv?token=AJWECOCKZTJKGGLX5SAGSFK6SKUFY\",\n",
        "                   names=['X0', 'X1', 'X2', 'Y'], header=None, dtype=np.float64)\n",
        "\n",
        "X_test = np.c_[np.ones((len(data_test), 1)), data_test['X0'], data_test['X1'], data_test['X2']]\n",
        "Y_test = data_test['Y'].to_numpy().reshape(len(data_test['Y']), 1)\n",
        "X_train = np.c_[np.ones((len(data_train), 1)), data_train['X0'], data_train['X1'], data_train['X2']]\n",
        "Y_train = data_train['Y'].to_numpy().reshape(len(data_train['Y']), 1)"
      ],
      "execution_count": 0,
      "outputs": []
    },
    {
      "cell_type": "markdown",
      "metadata": {
        "id": "ff_jTjAyRP5k",
        "colab_type": "text"
      },
      "source": [
        "## 1. Plot the estimated parameters using the training dataset\n",
        "\n",
        "* Plot the estimated parameters {(θ<sub>0</sub>,θ<sub>1</sub>,θ<sub>2</sub>,θ<sub>3</sub>)} at every iteration of gradient descent until convergence\n",
        "* The colors for the parameters {(θ<sub>0</sub>,θ<sub>1</sub>,θ<sub>2</sub>,θ<sub>3</sub>)} should be black, red, green, blue, respectively\n",
        "* The optimization is performed using the training dataset ('data_train.csv')"
      ]
    },
    {
      "cell_type": "markdown",
      "metadata": {
        "id": "ViKRl7YqSxV8",
        "colab_type": "text"
      },
      "source": [
        "### Predefinded Function\n",
        "* cal_cost(theta,X,y): cost\n",
        "* gradient_descent(X, y, theta,learning_rate=0.01, iterations=100): tuple(theta, cost_history, theta_history)"
      ]
    },
    {
      "cell_type": "code",
      "metadata": {
        "id": "n16SoTdGRDWH",
        "colab_type": "code",
        "colab": {}
      },
      "source": [
        "def cal_cost(theta, X, y):\n",
        "  if len(theta.shape) == 1:\n",
        "    theta = theta.reshape((len(theta), 1))\n",
        "  m = len(y)\n",
        "  \n",
        "  cost = (1/(2*m)) * np.sum(np.square(X.dot(theta)-y))\n",
        "  return cost"
      ],
      "execution_count": 0,
      "outputs": []
    },
    {
      "cell_type": "code",
      "metadata": {
        "id": "fMX0vMqVSALt",
        "colab_type": "code",
        "colab": {}
      },
      "source": [
        "def gradient_descent(X, y, theta, learning_rate=0.01, iterations=100):\n",
        "   \n",
        "    m = len(y)\n",
        "    cost_history = np.zeros(iterations, dtype=np.float64)\n",
        "    theta_history = np.zeros((iterations, theta.size), dtype=np.float64)\n",
        "\n",
        "    for it in range(iterations):\n",
        "        theta_history[it, :] = theta.T\n",
        "        cost_history[it] = cal_cost(theta,X,y)\n",
        "\n",
        "        err = X.dot(theta) - y\n",
        "        theta = theta - ((learning_rate/m) * X.T.dot(err))\n",
        "\n",
        "    return theta, cost_history, theta_history"
      ],
      "execution_count": 0,
      "outputs": []
    },
    {
      "cell_type": "markdown",
      "metadata": {
        "id": "vKeiZAg2S2cQ",
        "colab_type": "text"
      },
      "source": [
        "### Making result and plotting"
      ]
    },
    {
      "cell_type": "code",
      "metadata": {
        "id": "9G61Uj19Umq2",
        "colab_type": "code",
        "colab": {}
      },
      "source": [
        "#define general variable\n",
        "lr =0.000021\n",
        "n_iter = 10000\n",
        "theta_train = np.array([1, 1, 1, 1]).reshape((4, 1)).astype(np.float64)\n",
        "\n",
        "\n",
        "theta_train, cost_train_history, theta_train_history = gradient_descent(X_train, Y_train, theta_train, lr, n_iter)"
      ],
      "execution_count": 0,
      "outputs": []
    },
    {
      "cell_type": "code",
      "metadata": {
        "id": "p0sY6l7GTwv0",
        "colab_type": "code",
        "colab": {
          "base_uri": "https://localhost:8080/",
          "height": 265
        },
        "outputId": "5c1c0807-e649-43bf-9f39-1e7d15cafdf0"
      },
      "source": [
        "# black, red, green, blue\n",
        "colors = ['k', 'r', 'g', 'b']\n",
        "\n",
        "plt.figure()\n",
        "for idx in range(4):\n",
        "#idx = 1\n",
        "  plt.scatter(range(len(theta_train_history[:, idx])), theta_train_history[:, idx], c=colors[idx], s=0.5)"
      ],
      "execution_count": 152,
      "outputs": [
        {
          "output_type": "display_data",
          "data": {
            "image/png": "[encoded data removed]",
            "text/plain": [
              "<Figure size 432x288 with 1 Axes>"
            ]
          },
          "metadata": {
            "tags": [],
            "needs_background": "light"
          }
        }
      ]
    },
    {
      "cell_type": "markdown",
      "metadata": {
        "id": "ppk4EKuICqkh",
        "colab_type": "text"
      },
      "source": [
        "## 2. Plot the training error using the training dataset\n",
        "\n",
        "plot the training error J(θ<sub>0</sub>,θ<sub>1</sub>,θ<sub>2</sub>,θ<sub>3</sub>) at every iteration of gradient descent until convergence (in blue color)\n",
        "\n"
      ]
    },
    {
      "cell_type": "code",
      "metadata": {
        "id": "9QG7ictxCp93",
        "colab_type": "code",
        "colab": {
          "base_uri": "https://localhost:8080/",
          "height": 282
        },
        "outputId": "662e3a40-f7da-43e3-fa27-c664a7c71cd2"
      },
      "source": [
        "plt.figure()\n",
        "plt.scatter(range(len(cost_train_history)), cost_train_history, c='b', s=0.5)\n"
      ],
      "execution_count": 153,
      "outputs": [
        {
          "output_type": "execute_result",
          "data": {
            "text/plain": [
              "<matplotlib.collections.PathCollection at 0x7f200c6ed240>"
            ]
          },
          "metadata": {
            "tags": []
          },
          "execution_count": 153
        },
        {
          "output_type": "display_data",
          "data": {
            "image/png": "[encoded data removed]",
            "text/plain": [
              "<Figure size 432x288 with 1 Axes>"
            ]
          },
          "metadata": {
            "tags": [],
            "needs_background": "light"
          }
        }
      ]
    },
    {
      "cell_type": "code",
      "metadata": {
        "id": "GghWqv_bbGKf",
        "colab_type": "code",
        "outputId": "b5831c81-9c4f-4140-9795-3d2476b7e9cd",
        "colab": {
          "base_uri": "https://localhost:8080/",
          "height": 34
        }
      },
      "source": [
        "X_train[0][1]"
      ],
      "execution_count": 21,
      "outputs": [
        {
          "output_type": "execute_result",
          "data": {
            "text/plain": [
              "0.27354771453665605"
            ]
          },
          "metadata": {
            "tags": []
          },
          "execution_count": 21
        }
      ]
    },
    {
      "cell_type": "code",
      "metadata": {
        "id": "nm3_V2kn3Vou",
        "colab_type": "code",
        "colab": {
          "base_uri": "https://localhost:8080/",
          "height": 162
        },
        "outputId": "11355e74-79c8-4881-d39f-264bcc1105c9"
      },
      "source": [
        "cost_train_history"
      ],
      "execution_count": 37,
      "outputs": [
        {
          "output_type": "error",
          "ename": "NameError",
          "evalue": "ignored",
          "traceback": [
            "\u001b[0;31m---------------------------------------------------------------------------\u001b[0m",
            "\u001b[0;31mNameError\u001b[0m                                 Traceback (most recent call last)",
            "\u001b[0;32m<ipython-input-37-03720113bada>\u001b[0m in \u001b[0;36m<module>\u001b[0;34m()\u001b[0m\n\u001b[0;32m----> 1\u001b[0;31m \u001b[0mcost_train_history\u001b[0m\u001b[0;34m\u001b[0m\u001b[0;34m\u001b[0m\u001b[0m\n\u001b[0m",
            "\u001b[0;31mNameError\u001b[0m: name 'cost_train_history' is not defined"
          ]
        }
      ]
    },
    {
      "cell_type": "code",
      "metadata": {
        "id": "0AOrwqS25cCE",
        "colab_type": "code",
        "colab": {}
      },
      "source": [
        ""
      ],
      "execution_count": 0,
      "outputs": []
    }
  ]
}